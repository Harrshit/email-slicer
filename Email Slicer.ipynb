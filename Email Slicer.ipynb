{
 "cells": [
  {
   "cell_type": "code",
   "execution_count": 2,
   "metadata": {},
   "outputs": [],
   "source": [
    "#This is an email Slicer that seperates the username and the domain name of the input email address using strip function"
   ]
  },
  {
   "cell_type": "code",
   "execution_count": 6,
   "metadata": {},
   "outputs": [
    {
     "name": "stdout",
     "output_type": "stream",
     "text": [
      "Enter your email: hello@gmail.com\n",
      "Username:'hello' associated with the Domain: 'Gmail.com'\n"
     ]
    }
   ],
   "source": [
    "input_email = input(\"Enter your email: \").strip()\n",
    "username = input_email[:input_email.index(\"@\")]\n",
    "domain_name = input_email[input_email.index(\"@\")+1:]\n",
    "output_format = (f\"Username:'{username}' associated with the Domain: '{domain_name.capitalize()}'\")\n",
    "print(output_format)"
   ]
  },
  {
   "cell_type": "code",
   "execution_count": null,
   "metadata": {},
   "outputs": [],
   "source": []
  }
 ],
 "metadata": {
  "kernelspec": {
   "display_name": "Python 3",
   "language": "python",
   "name": "python3"
  },
  "language_info": {
   "codemirror_mode": {
    "name": "ipython",
    "version": 3
   },
   "file_extension": ".py",
   "mimetype": "text/x-python",
   "name": "python",
   "nbconvert_exporter": "python",
   "pygments_lexer": "ipython3",
   "version": "3.8.3"
  }
 },
 "nbformat": 4,
 "nbformat_minor": 4
}
